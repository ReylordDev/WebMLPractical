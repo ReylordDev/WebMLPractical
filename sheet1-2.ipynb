{
  "cells": [
    {
      "attachments": {},
      "cell_type": "markdown",
      "metadata": {},
      "source": [
        "* Demonstrate the different characteristics of the distribution of the page rank \n",
        "for the Erdösz/Renyi model compared to the Barabasi/Albert graph model \n",
        "in an example (e.g. generate random graph/s with similar number of nodes and edges for each model,\n",
        "compute page rank and compare characteristics of the resulting value distribution\n",
        "such as moments)."
      ]
    },
    {
      "attachments": {},
      "cell_type": "markdown",
      "metadata": {
        "id": "8Pt04QF0o2HU"
      },
      "source": [
        "# Distribution Characteristics\n",
        "\n",
        "* Central tendency: \n",
        "    This refers to the \"center\" of the distribution, or the typical or average value around which the data tend to cluster. Measures of central tendency include the mean, median, and mode.\n",
        "\n",
        "* Spread or dispersion: \n",
        "    This refers to the degree to which the data are spread out or clustered together. Measures of spread include the standard deviation, variance, and range.\n",
        "\n",
        "* Skewness: \n",
        "    This refers to the degree of asymmetry of the distribution. A distribution can be positively skewed (where the tail on the right side of the distribution is longer), negatively skewed (where the tail on the left side of the distribution is longer), or have zero skewness (where the distribution is symmetric).\n",
        "\n",
        "* Kurtosis: \n",
        "    This refers to the \"peakedness\" of the distribution. A distribution can be leptokurtic (more peaked than a normal distribution), mesokurtic (similarly peaked to a normal distribution), or platykurtic (less peaked than a normal distribution).\n",
        "\n",
        "* Range of values: \n",
        "    This refers to the set of values that the variable can take, and is often denoted by the minimum and maximum values of the distribution."
      ]
    },
    {
      "cell_type": "markdown",
      "metadata": {
        "id": "3XKIx_dbd0Ir"
      },
      "source": [
        "# Erdösz/Renyi\n",
        "\n",
        "* Distribution: poisson\n",
        "\n",
        "* homogenous (all nodes have the same degree)\n",
        "\n",
        "* diameter: $\\ln(N)$\n",
        "\n",
        "* clustering coefficient: $N^{-1}$\n",
        "\n",
        "# Barabasi/Albert\n",
        "\n",
        "* Distribution: powerlaw\n",
        "\n",
        "* inhomogenous (nodes have different degrees, few nodes have high degree (hubs), many nodes have low degree (non-hubs))\n",
        "\n",
        "* diameter: $\\frac{\\ln(N)}{\\ln\\ln(N)}$\n",
        "\n",
        "* A clustering coefficient: $N^{-0.75}$\n",
        "\n",
        "* scale free property, to characteristics of the network can be observed at any scales\n",
        "\n",
        "* small world property, the network is small world if the average shortest path length is close to the diameter"
      ]
    },
    {
      "cell_type": "code",
      "execution_count": 13,
      "metadata": {
        "id": "4CF8pMUZd0Iq"
      },
      "outputs": [],
      "source": [
        "import matplotlib.pyplot as plt\n",
        "import networkx as nx\n",
        "import numpy as np\n",
        "import pydot\n",
        "from scipy import stats"
      ]
    },
    {
      "cell_type": "code",
      "execution_count": 14,
      "metadata": {},
      "outputs": [],
      "source": [
        "nodes = 10000\n",
        "edges = 100000"
      ]
    },
    {
      "cell_type": "code",
      "execution_count": 15,
      "metadata": {
        "colab": {
          "base_uri": "https://localhost:8080/"
        },
        "id": "3-YeV2SVd0It",
        "outputId": "b25ac767-b8eb-4082-8408-22da6159db92"
      },
      "outputs": [
        {
          "name": "stdout",
          "output_type": "stream",
          "text": [
            "Number of nodes:  10000\n",
            "Number of edges:  100000\n"
          ]
        }
      ],
      "source": [
        "# Generate an Erdős/Rényi graph\n",
        "er_graph = nx.gnm_random_graph(nodes, edges, seed=42)\n",
        "print(\"Number of nodes: \", len(er_graph.nodes()))\n",
        "print(\"Number of edges: \", len(er_graph.edges()))"
      ]
    },
    {
      "cell_type": "code",
      "execution_count": 16,
      "metadata": {
        "colab": {
          "base_uri": "https://localhost:8080/"
        },
        "id": "o666eZ3id0It",
        "outputId": "d1df3b67-63e0-401a-edaa-23537641b617"
      },
      "outputs": [
        {
          "name": "stdout",
          "output_type": "stream",
          "text": [
            "Number of nodes:  10000\n",
            "Number of edges:  99900\n"
          ]
        }
      ],
      "source": [
        "# Generate a Barabási/Albert graph\n",
        "ba_graph = nx.barabasi_albert_graph(nodes, int(edges/nodes), seed=42)\n",
        "print(\"Number of nodes: \", len(ba_graph.nodes()))\n",
        "print(\"Number of edges: \", len(ba_graph.edges()))"
      ]
    },
    {
      "cell_type": "code",
      "execution_count": 17,
      "metadata": {},
      "outputs": [],
      "source": [
        "# Code to plot the graphs\n",
        "# er_pydot = nx.nx_pydot.to_pydot(er_graph)\n",
        "# ba_pydot = nx.nx_pydot.to_pydot(ba_graph)\n",
        "\n",
        "# er_pydot.write_png('er_graph.png')\n",
        "# ba_pydot.write_png('ba_graph.png')"
      ]
    },
    {
      "cell_type": "code",
      "execution_count": 18,
      "metadata": {
        "id": "-y_yK6ppd0Iu"
      },
      "outputs": [],
      "source": [
        "# Compute PageRank for each node in each graph\n",
        "er_pagerank = nx.pagerank(er_graph)\n",
        "ba_pagerank = nx.pagerank(ba_graph)"
      ]
    },
    {
      "cell_type": "code",
      "execution_count": 19,
      "metadata": {},
      "outputs": [],
      "source": [
        "# Compute the distributions of PageRank values\n",
        "er_distribution = np.array(list(er_pagerank.values()))\n",
        "ba_distribution = np.array(list(ba_pagerank.values()))"
      ]
    },
    {
      "cell_type": "code",
      "execution_count": 20,
      "metadata": {},
      "outputs": [
        {
          "name": "stdout",
          "output_type": "stream",
          "text": [
            "Erdős-Rényi Graph\n",
            "Mean:    0.0001\n",
            "Median:  9.963849444818369e-05\n",
            "Mode:    4.480751898266119e-05\n",
            "Barabási-Albert Graph\n",
            "Mean:    0.0001\n",
            "Median:  7.436465082067949e-05\n",
            "Mode:    5.365837605218124e-05\n"
          ]
        }
      ],
      "source": [
        "# Central Tendency Measures\n",
        "er_mean = np.mean(er_distribution)\n",
        "ba_mean = np.mean(ba_distribution)\n",
        "\n",
        "er_median = np.median(er_distribution)\n",
        "ba_median = np.median(ba_distribution)\n",
        "\n",
        "er_mode = stats.mode(er_distribution, keepdims=True)\n",
        "ba_mode = stats.mode(ba_distribution, keepdims=True)\n",
        "\n",
        "print(\"Erdős-Rényi Graph\")\n",
        "print(\"Mean:   \", er_mean)\n",
        "print(\"Median: \", er_median)\n",
        "print(\"Mode:   \", er_mode.mode[0])\n",
        "\n",
        "print(\"Barabási-Albert Graph\")\n",
        "print(\"Mean:   \", ba_mean)\n",
        "print(\"Median: \", ba_median)\n",
        "print(\"Mode:   \", ba_mode.mode[0])"
      ]
    },
    {
      "cell_type": "code",
      "execution_count": 21,
      "metadata": {},
      "outputs": [
        {
          "name": "stdout",
          "output_type": "stream",
          "text": [
            "Erdős-Rényi Graph\n",
            "Standard Deviation:  1.892827912487826e-05\n",
            "Variance:            3.582797506293021e-10\n",
            "Range:               0.0001401100076574701\n",
            "Barabási-Albert Graph\n",
            "Standard Deviation:  0.00010160761203626353\n",
            "Variance:            1.0324106823711843e-08\n",
            "Range:               0.002609157002836119\n"
          ]
        }
      ],
      "source": [
        "# Dispersion Measures\n",
        "er_std = np.std(er_distribution)\n",
        "ba_std = np.std(ba_distribution)\n",
        "\n",
        "er_var = np.var(er_distribution)\n",
        "ba_var = np.var(ba_distribution)\n",
        "\n",
        "er_range = np.max(er_distribution) - np.min(er_distribution)\n",
        "ba_range = np.max(ba_distribution) - np.min(ba_distribution)\n",
        "\n",
        "print(\"Erdős-Rényi Graph\")\n",
        "print(\"Standard Deviation: \", er_std)\n",
        "print(\"Variance:           \", er_var)\n",
        "print(\"Range:              \", er_range)\n",
        "\n",
        "print(\"Barabási-Albert Graph\")\n",
        "print(\"Standard Deviation: \", ba_std)\n",
        "print(\"Variance:           \", ba_var)\n",
        "print(\"Range:              \", ba_range)"
      ]
    },
    {
      "cell_type": "code",
      "execution_count": 22,
      "metadata": {},
      "outputs": [
        {
          "name": "stdout",
          "output_type": "stream",
          "text": [
            "Erdős-Rényi Graph\n",
            "Skewness:  0.2155272515049501\n",
            "Kurtosis:  -0.0334473869995775\n",
            "\n",
            "\n",
            "Barabási-Albert Graph\n",
            "Skewness:  9.519935257626779\n",
            "Kurtosis:  139.40191987983943\n"
          ]
        }
      ],
      "source": [
        "# Moments > 2\n",
        "er_skew = stats.skew(er_distribution)\n",
        "ba_skew = stats.skew(ba_distribution)\n",
        "\n",
        "er_kurt = stats.kurtosis(er_distribution)\n",
        "ba_kurt = stats.kurtosis(ba_distribution)\n",
        "\n",
        "er_4th = stats.moment(er_distribution, 4)\n",
        "er_5th = stats.moment(er_distribution, 5)\n",
        "er_6th = stats.moment(er_distribution, 6)\n",
        "er_7th = stats.moment(er_distribution, 7)\n",
        "\n",
        "ba_4th = stats.moment(ba_distribution, 4)\n",
        "ba_5th = stats.moment(ba_distribution, 5)\n",
        "ba_6th = stats.moment(ba_distribution, 6)\n",
        "ba_7th = stats.moment(ba_distribution, 7)\n",
        "\n",
        "print(\"Erdős-Rényi Graph\")\n",
        "print(\"Skewness: \", er_skew)\n",
        "print(\"Kurtosis: \", er_kurt)\n",
        "\n",
        "print()\n",
        "print()\n",
        "\n",
        "print(\"Barabási-Albert Graph\")\n",
        "print(\"Skewness: \", ba_skew)\n",
        "print(\"Kurtosis: \", ba_kurt)"
      ]
    },
    {
      "cell_type": "code",
      "execution_count": 27,
      "metadata": {
        "colab": {
          "base_uri": "https://localhost:8080/",
          "height": 265
        },
        "id": "ULfkvdNAd0Iu",
        "outputId": "48977d10-0337-4d96-b00f-04c51d84dd59"
      },
      "outputs": [
        {
          "data": {
            "image/png": "[encoded data removed]",
            "text/plain": [
              "<Figure size 432x288 with 1 Axes>"
            ]
          },
          "metadata": {
            "needs_background": "light"
          },
          "output_type": "display_data"
        },
        {
          "data": {
            "image/png": "[encoded data removed]",
            "text/plain": [
              "<Figure size 432x288 with 1 Axes>"
            ]
          },
          "metadata": {
            "needs_background": "light"
          },
          "output_type": "display_data"
        },
        {
          "data": {
            "image/png": "[encoded data removed]",
            "text/plain": [
              "<Figure size 432x288 with 1 Axes>"
            ]
          },
          "metadata": {
            "needs_background": "light"
          },
          "output_type": "display_data"
        }
      ],
      "source": [
        "# Plot the distribution of PageRanks values for Erdős-Rényi and Barabási-Albert model\n",
        "\n",
        "bins = np.linspace(0, 0.001, 1000)\n",
        "# bins = np.linspace(0, 10/nodes, int(nodes/10))\n",
        "histtype = 'stepfilled'\n",
        "\n",
        "x_axis = \"page rank\"\n",
        "y_axis = \"frequency\"\n",
        "\n",
        "fig, ax = plt.subplots()\n",
        "ax.set_xlabel(x_axis)\n",
        "ax.set_ylabel(y_axis)\n",
        "plt.hist(er_distribution, bins, histtype=histtype, alpha=0.7, label='Erdős/Rényi', color='blue')\n",
        "plt.hist(ba_distribution, bins, histtype=histtype, alpha=0.7, label='Barabási/Albert', color='red')\n",
        "plt.legend()\n",
        "plt.savefig('both_graphs.png', dpi=300)\n",
        "plt.show()\n",
        "\n",
        "er_fig, ax = plt.subplots()\n",
        "ax.set_xlabel(x_axis)\n",
        "ax.set_ylabel(y_axis)\n",
        "plt.hist(er_distribution, bins, histtype=histtype, label='Erdös/Rényi', color='blue')\n",
        "plt.savefig('er_graph.png', dpi=300)\n",
        "plt.show()\n",
        "\n",
        "ba_fig, ax = plt.subplots()\n",
        "ax.set_xlabel(x_axis)\n",
        "ax.set_ylabel(y_axis)\n",
        "plt.hist(ba_distribution, bins, histtype=histtype, label='Barabási/Albert', color='red')\n",
        "plt.savefig('ba_graph.png', dpi=300)\n",
        "plt.show()"
      ]
    }
  ],
  "metadata": {
    "colab": {
      "provenance": []
    },
    "kernelspec": {
      "display_name": "environment",
      "language": "python",
      "name": "python3"
    },
    "language_info": {
      "codemirror_mode": {
        "name": "ipython",
        "version": 3
      },
      "file_extension": ".py",
      "mimetype": "text/x-python",
      "name": "python",
      "nbconvert_exporter": "python",
      "pygments_lexer": "ipython3",
      "version": "3.9.13"
    },
    "orig_nbformat": 4,
    "vscode": {
      "interpreter": {
        "hash": "1f27a5a8f51d633a23c6221e5e69097b39f3dad8dd05a9d8633130b79ac50968"
      }
    }
  },
  "nbformat": 4,
  "nbformat_minor": 0
}
